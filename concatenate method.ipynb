{
 "cells": [
  {
   "cell_type": "code",
   "execution_count": 1,
   "id": "96c31e72",
   "metadata": {},
   "outputs": [],
   "source": [
    "import keras\n",
    "from keras.layers import Conv2D, Conv2DTranspose, Input, Flatten, Dense, Lambda, Reshape\n",
    "#from keras.layers import BatchNormalization\n",
    "from keras.models import Model\n",
    "from keras import backend as K\n",
    "import numpy as np\n",
    "import matplotlib.pyplot as plt\n",
    "import tensorflow as tf"
   ]
  },
  {
   "cell_type": "code",
   "execution_count": 2,
   "id": "8e417051",
   "metadata": {},
   "outputs": [
    {
     "name": "stdout",
     "output_type": "stream",
     "text": [
      "Device mapping:\n",
      "/job:localhost/replica:0/task:0/device:GPU:0 -> device: 0, name: NVIDIA GeForce RTX 3070 Laptop GPU, pci bus id: 0000:01:00.0, compute capability: 8.6\n",
      "\n"
     ]
    }
   ],
   "source": [
    "\n",
    "gpu_options = tf.compat.v1.GPUOptions(per_process_gpu_memory_fraction=0.7)\n",
    "sess = tf.compat.v1.Session(config=tf.compat.v1.ConfigProto(log_device_placement=True, gpu_options=gpu_options))"
   ]
  },
  {
   "cell_type": "code",
   "execution_count": 3,
   "id": "3ea81eaa",
   "metadata": {},
   "outputs": [],
   "source": [
    "import os\n",
    "import PIL\n",
    "import PIL.Image\n",
    "import pathlib\n",
    "from sklearn.model_selection import train_test_split\n",
    "data_dir = pathlib.Path(\"/Users/Yernar-PC/DEEP LEARNING/PART2\")\n",
    "data_dir_train = pathlib.Path(\"/Users/Yernar-PC/DEEP LEARNING/Insulator/total data/all/*/*\")"
   ]
  },
  {
   "cell_type": "code",
   "execution_count": 4,
   "id": "257621c4",
   "metadata": {},
   "outputs": [],
   "source": [
    "filenames = tf.io.gfile.glob(str(data_dir_train))\n",
    "\n",
    "train_filenames, val_filenames = train_test_split(filenames, test_size=0.2)"
   ]
  },
  {
   "cell_type": "code",
   "execution_count": 5,
   "id": "e0da061d",
   "metadata": {},
   "outputs": [
    {
     "name": "stdout",
     "output_type": "stream",
     "text": [
      "Clean images count in training set: 71\n",
      "Polluted images count in training set: 205\n"
     ]
    }
   ],
   "source": [
    "COUNT_CLEAN = len([filename for filename in filenames if \"Clean\" in filename])\n",
    "print(\"Clean images count in training set: \" + str(COUNT_CLEAN))\n",
    "\n",
    "COUNT_POLLUTED = len([filename for filename in filenames if \"Polluted\" in filename])\n",
    "print(\"Polluted images count in training set: \" + str(COUNT_POLLUTED))"
   ]
  },
  {
   "cell_type": "code",
   "execution_count": 6,
   "id": "66840df6",
   "metadata": {},
   "outputs": [
    {
     "name": "stdout",
     "output_type": "stream",
     "text": [
      "b'\\\\Users\\\\Yernar-PC\\\\DEEP LEARNING\\\\Insulator\\\\total data\\\\all\\\\Polluted\\\\20200617_124128.jpg'\n",
      "b'\\\\Users\\\\Yernar-PC\\\\DEEP LEARNING\\\\Insulator\\\\total data\\\\all\\\\Polluted\\\\20200617_124312.jpg'\n",
      "b'\\\\Users\\\\Yernar-PC\\\\DEEP LEARNING\\\\Insulator\\\\total data\\\\all\\\\Clean\\\\20200617_123714.jpg'\n",
      "b'\\\\Users\\\\Yernar-PC\\\\DEEP LEARNING\\\\Insulator\\\\total data\\\\all\\\\Polluted\\\\20200617_125832.jpg'\n",
      "b'\\\\Users\\\\Yernar-PC\\\\DEEP LEARNING\\\\Insulator\\\\total data\\\\all\\\\Polluted\\\\DSCF0118.JPG'\n"
     ]
    }
   ],
   "source": [
    "train_list_ds = tf.data.Dataset.from_tensor_slices(train_filenames)\n",
    "val_list_ds = tf.data.Dataset.from_tensor_slices(val_filenames)\n",
    "\n",
    "for f in train_list_ds.take(5):\n",
    "    print(f.numpy())"
   ]
  },
  {
   "cell_type": "code",
   "execution_count": 7,
   "id": "1e75f3cb",
   "metadata": {},
   "outputs": [
    {
     "name": "stdout",
     "output_type": "stream",
     "text": [
      "Train images count: 220\n",
      "Validation images count: 56\n"
     ]
    }
   ],
   "source": [
    "TRAIN_IMG_COUNT = tf.data.experimental.cardinality(train_list_ds).numpy()\n",
    "print(\"Train images count: \" + str(TRAIN_IMG_COUNT))\n",
    "\n",
    "VAL_IMG_COUNT = tf.data.experimental.cardinality(val_list_ds).numpy()\n",
    "print(\"Validation images count: \" + str(VAL_IMG_COUNT))"
   ]
  },
  {
   "cell_type": "code",
   "execution_count": 8,
   "id": "4a908bec",
   "metadata": {},
   "outputs": [
    {
     "data": {
      "text/plain": [
       "array([], dtype=float64)"
      ]
     },
     "execution_count": 8,
     "metadata": {},
     "output_type": "execute_result"
    }
   ],
   "source": [
    "CLASS_NAMES = np.array([str(tf.strings.split(item, os.path.sep)[-1].numpy())[2:-1]\n",
    "                        for item in tf.io.gfile.glob(str(data_dir) + \"/All_250/*\")])\n",
    "CLASS_NAMES"
   ]
  },
  {
   "cell_type": "code",
   "execution_count": 9,
   "id": "0db92e7c",
   "metadata": {},
   "outputs": [],
   "source": [
    "def get_label(file_path):\n",
    "    # convert the path to a list of path components\n",
    "    parts = tf.strings.split(file_path, os.path.sep)\n",
    "    if parts[-2] == 'Clean':\n",
    "        return 0\n",
    "    else:\n",
    "        return 1"
   ]
  },
  {
   "cell_type": "code",
   "execution_count": 79,
   "id": "6494871e",
   "metadata": {},
   "outputs": [],
   "source": [
    "def decode_img(img):\n",
    "    # convert the compressed string\n",
    "    img_X = tf.image.decode_jpeg(img, channels=3)\n",
    "    \n",
    "    # Use `convert_image_dtype` to convert to floats in the [0,1] range.\n",
    "    #img_X = tf.keras.layers.Rescaling(scale=1./255)(img_X)\n",
    "    #img_X = tf.keras.layers.Rescaling(scale=1./127.5, offset = -1)(img_X)\n",
    "    img_X = tf.cast(img_X, tf.float32)\n",
    "    img_X = tf.keras.applications.nasnet.preprocess_input(img_X)\n",
    "    #img_X = tf.keras.applications.mobilenet_v2.preprocess_input(img_X)\n",
    "    #img_X = tf.keras.applications.xception.preprocess_input(img_X)\n",
    "    #img_X = tf.keras.applications.resnet50.preprocess_input(img_X)\n",
    "    #img_X = tf.keras.applications.densenet.preprocess_input(img_X)\n",
    "    #img_X = tf.keras.applications.vgg16.preprocess_input(img_X)\n",
    "    #img_X = tf.keras.applications.efficientnet.preprocess_input(img_X)\n",
    "    # resize the image to the desired size.\n",
    "    return tf.image.resize(img_X, IMAGE_SIZE)"
   ]
  },
  {
   "cell_type": "code",
   "execution_count": 80,
   "id": "a1c9a477",
   "metadata": {},
   "outputs": [],
   "source": [
    "def process_path(file_path):\n",
    "    label = get_label(file_path)\n",
    "    # load the raw data from the file as a string\n",
    "    img = tf.io.read_file(file_path)\n",
    "    img = decode_img(img)\n",
    "    return img, label"
   ]
  },
  {
   "cell_type": "code",
   "execution_count": 81,
   "id": "8fe56bdb",
   "metadata": {},
   "outputs": [],
   "source": [
    "AUTOTUNE = tf.data.experimental.AUTOTUNE\n",
    "IMAGE_SIZE = (224, 224)\n",
    "train_ds = train_list_ds.map(process_path, num_parallel_calls=AUTOTUNE)\n",
    "\n",
    "val_ds = val_list_ds.map(process_path, num_parallel_calls=AUTOTUNE)"
   ]
  },
  {
   "cell_type": "code",
   "execution_count": 82,
   "id": "f64ad7b1",
   "metadata": {},
   "outputs": [
    {
     "name": "stdout",
     "output_type": "stream",
     "text": [
      "(220, 224, 224, 3)\n",
      "(220,)\n"
     ]
    }
   ],
   "source": [
    "X_train = []\n",
    "y_train = []\n",
    "\n",
    "for image, label in train_ds:\n",
    "    X_train.append(image)\n",
    "    y_train.append(label)    \n",
    "X_train = np.array(X_train, dtype = 'float32')\n",
    "y_train = np.array(y_train, dtype = 'int8')\n",
    "\n",
    "shuffled_idx = np.random.permutation(TRAIN_IMG_COUNT)\n",
    "X_train[:] = X_train[shuffled_idx]\n",
    "y_train[:] = y_train[shuffled_idx]\n",
    "print(X_train.shape)\n",
    "print(y_train.shape)"
   ]
  },
  {
   "cell_type": "code",
   "execution_count": 83,
   "id": "1033a54f",
   "metadata": {},
   "outputs": [
    {
     "name": "stdout",
     "output_type": "stream",
     "text": [
      "(56, 224, 224, 3)\n",
      "(56,)\n"
     ]
    }
   ],
   "source": [
    "X_val = []\n",
    "y_val = []\n",
    "\n",
    "for image, label in val_ds:\n",
    "    X_val.append(image)\n",
    "    y_val.append(label)    \n",
    "X_val = np.array(X_val, dtype = 'float32')\n",
    "y_val = np.array(y_val, dtype = 'int8')\n",
    "\n",
    "shuffled_idx = np.random.permutation(VAL_IMG_COUNT)\n",
    "X_val[:] = X_val[shuffled_idx]\n",
    "y_val[:] = y_val[shuffled_idx]\n",
    "print(X_val.shape)\n",
    "print(y_val.shape)"
   ]
  },
  {
   "cell_type": "code",
   "execution_count": 84,
   "id": "f237cbe9",
   "metadata": {},
   "outputs": [],
   "source": [
    "data_train = np.concatenate((X_train, X_val))\n",
    "label_train = np.concatenate((y_train, y_val))"
   ]
  },
  {
   "cell_type": "code",
   "execution_count": 85,
   "id": "271c94b6",
   "metadata": {},
   "outputs": [
    {
     "data": {
      "text/plain": [
       "array([[ 0.7092312 ,  0.7798194 ,  0.74060374],\n",
       "       [ 0.7379877 ,  0.7850465 ,  0.753674  ],\n",
       "       [ 0.741044  ,  0.7881028 ,  0.75673026],\n",
       "       [ 0.69917715,  0.7697654 ,  0.7305497 ],\n",
       "       [ 0.7096688 ,  0.78025705,  0.74104136],\n",
       "       [ 0.7318628 ,  0.7789216 ,  0.76323533],\n",
       "       [ 0.7176471 ,  0.7882353 ,  0.7490196 ],\n",
       "       [ 0.7352168 ,  0.805805  ,  0.76658934],\n",
       "       [ 0.7421794 ,  0.7892382 ,  0.77355194],\n",
       "       [ 0.7453781 ,  0.7924369 ,  0.7767506 ],\n",
       "       [ 0.71372575,  0.76078457,  0.7450983 ],\n",
       "       [ 0.760294  ,  0.80735284,  0.79166657],\n",
       "       [ 0.73589945,  0.78295827,  0.7515857 ],\n",
       "       [ 0.73410356,  0.7954482 ,  0.7654761 ],\n",
       "       [ 0.73105   ,  0.80163825,  0.77810884],\n",
       "       [ 0.740966  ,  0.81155425,  0.78802484],\n",
       "       [ 0.7219187 ,  0.79250693,  0.7689775 ],\n",
       "       [ 0.736222  ,  0.80681026,  0.78328085],\n",
       "       [ 0.7324225 ,  0.818697  ,  0.7873244 ],\n",
       "       [ 0.72012055,  0.80639505,  0.7750225 ],\n",
       "       [ 0.7244948 ,  0.8107693 ,  0.7637105 ],\n",
       "       [ 0.7411765 ,  0.827451  ,  0.79607844],\n",
       "       [ 0.7318626 ,  0.8181371 ,  0.78676456],\n",
       "       [ 0.7230769 ,  0.8093514 ,  0.77797884],\n",
       "       [ 0.7360468 ,  0.8223213 ,  0.79094875],\n",
       "       [ 0.72191894,  0.80819345,  0.7768209 ],\n",
       "       [ 0.7349686 ,  0.8212431 ,  0.78987056],\n",
       "       [ 0.74882454,  0.83509904,  0.8037265 ],\n",
       "       [ 0.75030774,  0.83658224,  0.8052097 ],\n",
       "       [ 0.7675073 ,  0.8537818 ,  0.806723  ],\n",
       "       [ 0.74517053,  0.83144504,  0.8000725 ],\n",
       "       [ 0.7469538 ,  0.8332283 ,  0.79009104],\n",
       "       [ 0.73732495,  0.82359946,  0.7922269 ],\n",
       "       [ 0.765849  ,  0.8521235 ,  0.8050647 ],\n",
       "       [ 0.7428427 ,  0.8291172 ,  0.79774463],\n",
       "       [ 0.75456643,  0.84084094,  0.8094684 ],\n",
       "       [ 0.7633252 ,  0.8495997 ,  0.8182272 ],\n",
       "       [ 0.76718426,  0.85345876,  0.8220862 ],\n",
       "       [ 0.77654064,  0.84712887,  0.82359946],\n",
       "       [ 0.7798311 ,  0.8661056 ,  0.83473307],\n",
       "       [ 0.77252406,  0.85879856,  0.827426  ],\n",
       "       [ 0.78909093,  0.87536544,  0.8439929 ],\n",
       "       [ 0.76715624,  0.85343075,  0.8220582 ],\n",
       "       [ 0.7887831 ,  0.8750576 ,  0.84368503],\n",
       "       [ 0.7875377 ,  0.8738122 ,  0.84243965],\n",
       "       [ 0.78631   ,  0.8725845 ,  0.841212  ],\n",
       "       [ 0.7935793 ,  0.8798538 ,  0.84848124],\n",
       "       [ 0.7843838 ,  0.8706583 ,  0.83928573],\n",
       "       [ 0.8052513 ,  0.8915258 ,  0.86015326],\n",
       "       [ 0.7932445 ,  0.886522  ,  0.85514945],\n",
       "       [ 0.8077731 ,  0.8940476 ,  0.85763335],\n",
       "       [ 0.8176848 ,  0.89555705,  0.8611016 ],\n",
       "       [ 0.7991069 ,  0.8853814 ,  0.85400885],\n",
       "       [ 0.8191896 ,  0.897621  ,  0.88977784],\n",
       "       [ 0.80788815,  0.89416265,  0.8627901 ],\n",
       "       [ 0.8273109 ,  0.9135854 ,  0.8822129 ],\n",
       "       [ 0.8212061 ,  0.9074806 ,  0.87610805],\n",
       "       [ 0.8324927 ,  0.9187672 ,  0.88739467],\n",
       "       [ 0.82029706,  0.9216987 ,  0.8676354 ],\n",
       "       [ 0.8294468 ,  0.9117997 ,  0.88238794],\n",
       "       [ 0.84342283,  0.92129314,  0.89412266],\n",
       "       [ 0.8287844 ,  0.9072158 ,  0.89937264],\n",
       "       [ 0.832711  ,  0.9189855 ,  0.88761294],\n",
       "       [ 0.84601694,  0.93229145,  0.9009189 ],\n",
       "       [ 0.8340562 ,  0.9203307 ,  0.88895816],\n",
       "       [ 0.8488423 ,  0.9351168 ,  0.9037443 ],\n",
       "       [ 0.8500875 ,  0.936362  ,  0.9049895 ],\n",
       "       [ 0.83158535,  0.91785985,  0.8864873 ],\n",
       "       [ 0.8181235 ,  0.904398  ,  0.8730255 ],\n",
       "       [ 0.78490424,  0.8633356 ,  0.8554925 ],\n",
       "       [ 0.75452465,  0.8486423 ,  0.832956  ],\n",
       "       [ 0.77433705,  0.8527684 ,  0.8449253 ],\n",
       "       [ 0.77639335,  0.8548247 ,  0.8469816 ],\n",
       "       [ 0.76367295,  0.8421043 ,  0.8342612 ],\n",
       "       [ 0.75129825,  0.8297296 ,  0.8218865 ],\n",
       "       [ 0.7622291 ,  0.84066045,  0.8485036 ],\n",
       "       [ 0.7007074 ,  0.77913874,  0.7712956 ],\n",
       "       [ 0.6362844 ,  0.7147158 ,  0.7225589 ],\n",
       "       [ 0.6392157 ,  0.7019608 ,  0.7176471 ],\n",
       "       [ 0.6527044 ,  0.7311358 ,  0.7389789 ],\n",
       "       [ 0.6351892 ,  0.71362054,  0.7214637 ],\n",
       "       [ 0.58843535,  0.6668667 ,  0.67870146],\n",
       "       [ 0.57264405,  0.6510754 ,  0.6667617 ],\n",
       "       [ 0.5811196 ,  0.6673941 ,  0.6830804 ],\n",
       "       [ 0.58841616,  0.6668475 ,  0.6825338 ],\n",
       "       [ 0.57949424,  0.6579256 ,  0.6736119 ],\n",
       "       [ 0.57275856,  0.65903306,  0.67471933],\n",
       "       [ 0.58524305,  0.6636744 ,  0.6793607 ],\n",
       "       [ 0.5848748 ,  0.6711493 ,  0.6868356 ],\n",
       "       [ 0.5764706 ,  0.6627451 ,  0.6784314 ],\n",
       "       [ 0.5900966 ,  0.66852796,  0.68421423],\n",
       "       [ 0.56876755,  0.6471989 ,  0.6628852 ],\n",
       "       [ 0.5686275 ,  0.654902  ,  0.67058825],\n",
       "       [ 0.5708956 ,  0.649327  ,  0.66501325],\n",
       "       [ 0.5452031 ,  0.655007  ,  0.66285014],\n",
       "       [ 0.571923  ,  0.6581975 ,  0.6738838 ],\n",
       "       [ 0.56988716,  0.65616167,  0.67184794],\n",
       "       [ 0.56708765,  0.65336215,  0.6690484 ],\n",
       "       [ 0.56227195,  0.64854646,  0.66423273],\n",
       "       [ 0.5714308 ,  0.65630364,  0.6719899 ],\n",
       "       [ 0.5640767 ,  0.6503512 ,  0.6660375 ],\n",
       "       [ 0.55201375,  0.63828826,  0.65397453],\n",
       "       [ 0.5767507 ,  0.65518206,  0.67086834],\n",
       "       [ 0.5752322 ,  0.6536636 ,  0.66934985],\n",
       "       [ 0.5643631 ,  0.6427945 ,  0.65848076],\n",
       "       [ 0.5651883 ,  0.64361966,  0.65930593],\n",
       "       [ 0.55683774,  0.6352691 ,  0.6509554 ],\n",
       "       [ 0.54296994,  0.6214013 ,  0.6370876 ],\n",
       "       [ 0.5117307 ,  0.5980052 ,  0.6293777 ],\n",
       "       [ 0.5372549 ,  0.60784316,  0.64705884],\n",
       "       [ 0.5443857 ,  0.6149739 ,  0.6541896 ],\n",
       "       [ 0.5300692 ,  0.6163437 ,  0.6477162 ],\n",
       "       [ 0.5195107 ,  0.6057852 ,  0.63715774],\n",
       "       [ 0.5140604 ,  0.6238643 ,  0.6473937 ],\n",
       "       [ 0.4941877 ,  0.5804622 ,  0.5961485 ],\n",
       "       [ 0.50203085,  0.58830535,  0.6039916 ],\n",
       "       [ 0.49533722,  0.58161175,  0.597298  ],\n",
       "       [ 0.51510024,  0.60137475,  0.6327473 ],\n",
       "       [ 0.5158808 ,  0.6021553 ,  0.6178416 ],\n",
       "       [ 0.49572504,  0.58199954,  0.6133721 ],\n",
       "       [ 0.51363045,  0.59990495,  0.6312775 ],\n",
       "       [ 0.49177507,  0.57804954,  0.6094221 ],\n",
       "       [ 0.46869752,  0.57850146,  0.6020309 ],\n",
       "       [ 0.48222116,  0.5684957 ,  0.59986824],\n",
       "       [ 0.4972118 ,  0.5834863 ,  0.61485887],\n",
       "       [ 0.48948056,  0.57575506,  0.6071276 ],\n",
       "       [ 0.4971305 ,  0.583405  ,  0.61477757],\n",
       "       [ 0.50181746,  0.58809197,  0.6194645 ],\n",
       "       [ 0.50202864,  0.58830315,  0.6196757 ],\n",
       "       [ 0.47457987,  0.5843838 ,  0.6079132 ],\n",
       "       [ 0.47608593,  0.5858899 ,  0.6094193 ],\n",
       "       [ 0.47446355,  0.5842675 ,  0.6077969 ],\n",
       "       [ 0.48648462,  0.58431375,  0.61183476],\n",
       "       [ 0.47697908,  0.5876217 ,  0.6111511 ],\n",
       "       [ 0.48487288,  0.5711474 ,  0.6025199 ],\n",
       "       [ 0.47464436,  0.56091887,  0.5922914 ],\n",
       "       [ 0.4891632 ,  0.57543766,  0.6068102 ],\n",
       "       [ 0.509869  ,  0.5961435 ,  0.62751603],\n",
       "       [ 0.5014781 ,  0.5877526 ,  0.6191251 ],\n",
       "       [ 0.44838855,  0.5346631 ,  0.5660356 ],\n",
       "       [ 0.504205  ,  0.6140089 ,  0.62185204],\n",
       "       [ 0.5784205 ,  0.67253816,  0.67253816],\n",
       "       [ 0.5101486 ,  0.6199525 ,  0.6434819 ],\n",
       "       [ 0.51575637,  0.6020309 ,  0.6334034 ],\n",
       "       [ 0.5240592 ,  0.6103337 ,  0.6417062 ],\n",
       "       [ 0.5228984 ,  0.6091729 ,  0.6405454 ],\n",
       "       [ 0.51950836,  0.60578287,  0.6371554 ],\n",
       "       [ 0.52760935,  0.61388385,  0.6295701 ],\n",
       "       [ 0.5137255 ,  0.6       ,  0.6313726 ],\n",
       "       [ 0.51316637,  0.5994409 ,  0.6308134 ],\n",
       "       [ 0.49511272,  0.60491663,  0.62844604],\n",
       "       [ 0.49832073,  0.5845952 ,  0.61596775],\n",
       "       [ 0.4976666 ,  0.6074705 ,  0.6309999 ],\n",
       "       [ 0.4989217 ,  0.5994827 ,  0.6260931 ],\n",
       "       [ 0.50203085,  0.58830535,  0.6196779 ],\n",
       "       [ 0.4989826 ,  0.5852571 ,  0.619433  ],\n",
       "       [ 0.49390814,  0.6037121 ,  0.6115552 ],\n",
       "       [ 0.49900496,  0.58527946,  0.616652  ],\n",
       "       [ 0.5115865 ,  0.597861  ,  0.62923354],\n",
       "       [ 0.4808832 ,  0.5671577 ,  0.59853023],\n",
       "       [ 0.4897683 ,  0.57604283,  0.6074154 ],\n",
       "       [ 0.4718537 ,  0.5581282 ,  0.5895007 ],\n",
       "       [ 0.47180068,  0.5580752 ,  0.58944774],\n",
       "       [ 0.47670296,  0.56297743,  0.59435   ],\n",
       "       [ 0.4756137 ,  0.5618882 ,  0.59326077],\n",
       "       [ 0.46652666,  0.55280113,  0.5836107 ],\n",
       "       [ 0.44194517,  0.52821964,  0.5595922 ],\n",
       "       [ 0.44864187,  0.53491634,  0.58197516],\n",
       "       [ 0.45483196,  0.54110646,  0.572479  ],\n",
       "       [ 0.45015207,  0.53642654,  0.58348536],\n",
       "       [ 0.45070085,  0.5369754 ,  0.5840342 ],\n",
       "       [ 0.4216406 ,  0.52948564,  0.55889165],\n",
       "       [ 0.40812466,  0.50167936,  0.55601835],\n",
       "       [ 0.41034126,  0.51230204,  0.55936086],\n",
       "       [ 0.39210188,  0.5019058 ,  0.5254352 ],\n",
       "       [ 0.39221194,  0.5020159 ,  0.5255453 ],\n",
       "       [ 0.3789205 ,  0.4887244 ,  0.5122538 ],\n",
       "       [ 0.3900238 ,  0.49982774,  0.52335715],\n",
       "       [ 0.37069902,  0.48050293,  0.5040323 ],\n",
       "       [ 0.36925545,  0.47121623,  0.518275  ],\n",
       "       [ 0.3597773 ,  0.46173808,  0.50879693],\n",
       "       [ 0.39208686,  0.47836137,  0.5254202 ],\n",
       "       [ 0.39379588,  0.48007038,  0.5209635 ],\n",
       "       [ 0.38619542,  0.47246993,  0.5066458 ],\n",
       "       [ 0.3729759 ,  0.4592504 ,  0.49062294],\n",
       "       [ 0.39123   ,  0.4775045 ,  0.50887704],\n",
       "       [ 0.36984703,  0.45612153,  0.48749408],\n",
       "       [ 0.35681775,  0.46662167,  0.49015108],\n",
       "       [ 0.37240902,  0.45868352,  0.49005607],\n",
       "       [ 0.3805539 ,  0.4668284 ,  0.49820095],\n",
       "       [ 0.3661284 ,  0.45240292,  0.48377547],\n",
       "       [ 0.36876255,  0.45503706,  0.4864096 ],\n",
       "       [ 0.3608544 ,  0.4471289 ,  0.49026233],\n",
       "       [ 0.3798242 ,  0.4509754 ,  0.50559586],\n",
       "       [ 0.35349348,  0.439768  ,  0.4868268 ],\n",
       "       [ 0.26807863,  0.35435313,  0.40141195],\n",
       "       [ 0.2391073 ,  0.32538182,  0.37244064],\n",
       "       [ 0.36120778,  0.4474823 ,  0.47885484],\n",
       "       [ 0.4077709 ,  0.4940454 ,  0.5405451 ],\n",
       "       [ 0.4242151 ,  0.51048964,  0.5418622 ],\n",
       "       [ 0.4374982 ,  0.50808644,  0.5473021 ],\n",
       "       [ 0.41718107,  0.5034556 ,  0.5348281 ],\n",
       "       [ 0.40517786,  0.49145237,  0.5071386 ],\n",
       "       [ 0.41147795,  0.49775246,  0.52912503],\n",
       "       [ 0.39983585,  0.48611036,  0.5174829 ],\n",
       "       [ 0.397932  ,  0.4842065 ,  0.51557904],\n",
       "       [ 0.38926536,  0.47553986,  0.5069124 ],\n",
       "       [ 0.3686925 ,  0.454967  ,  0.48633954],\n",
       "       [ 0.35027933,  0.43655384,  0.46792638],\n",
       "       [ 0.35141414,  0.43768865,  0.459533  ],\n",
       "       [ 0.37414798,  0.4604225 ,  0.49179503],\n",
       "       [ 0.3623061 ,  0.4485806 ,  0.46426687],\n",
       "       [ 0.36910936,  0.44754073,  0.463227  ],\n",
       "       [ 0.32463336,  0.43443727,  0.4579667 ],\n",
       "       [ 0.30765486,  0.4017725 ,  0.4017725 ],\n",
       "       [ 0.21031627,  0.29659078,  0.3173207 ],\n",
       "       [-0.23571016, -0.04747488,  0.17213301],\n",
       "       [-0.34684545, -0.14292388,  0.1158997 ],\n",
       "       [-0.33837226, -0.14766206,  0.13345347],\n",
       "       [-0.4006136 , -0.19256595,  0.08306216],\n",
       "       [-0.39532068, -0.18242097,  0.08909615],\n",
       "       [-0.36582035, -0.16246176,  0.11232957],\n",
       "       [-0.39949223, -0.19557065,  0.07893919],\n",
       "       [-0.35127404, -0.16303875,  0.11931424]], dtype=float32)"
      ]
     },
     "execution_count": 85,
     "metadata": {},
     "output_type": "execute_result"
    }
   ],
   "source": [
    "data_train[1][1]"
   ]
  },
  {
   "cell_type": "code",
   "execution_count": 86,
   "id": "545638bd",
   "metadata": {},
   "outputs": [
    {
     "data": {
      "text/plain": [
       "1"
      ]
     },
     "execution_count": 86,
     "metadata": {},
     "output_type": "execute_result"
    }
   ],
   "source": [
    "label_train[1]"
   ]
  },
  {
   "cell_type": "markdown",
   "id": "64849df8",
   "metadata": {},
   "source": [
    "## Concatenate the Large Dimensoinal Layers"
   ]
  },
  {
   "cell_type": "markdown",
   "id": "b4767d16",
   "metadata": {},
   "source": [
    "#### 1. NASNetMobile"
   ]
  },
  {
   "cell_type": "code",
   "execution_count": 87,
   "id": "b95da2d9",
   "metadata": {},
   "outputs": [
    {
     "name": "stdout",
     "output_type": "stream",
     "text": [
      "(276, 51744)\n"
     ]
    }
   ],
   "source": [
    "IMG_SHAPE = IMAGE_SIZE + (3, )\n",
    "base_model_NASNetMobile = tf.keras.applications.NASNetMobile(input_shape=IMG_SHAPE,\n",
    "                                                         include_top=False,\n",
    "                                                         weights='imagenet')\n",
    "feature_batch = base_model_NASNetMobile(data_train)\n",
    "base_model_NASNetMobile.trainable = False\n",
    "flatten_average_layer = tf.keras.layers.Flatten()\n",
    "feature_batch_NASNetMobile = flatten_average_layer(feature_batch)\n",
    "print(feature_batch_NASNetMobile.shape)"
   ]
  },
  {
   "cell_type": "markdown",
   "id": "2a2bafa5",
   "metadata": {},
   "source": [
    "#### 2. MobileNet"
   ]
  },
  {
   "cell_type": "code",
   "execution_count": 78,
   "id": "360754bd",
   "metadata": {},
   "outputs": [
    {
     "name": "stdout",
     "output_type": "stream",
     "text": [
      "(276, 62720)\n"
     ]
    }
   ],
   "source": [
    "IMG_SHAPE = IMAGE_SIZE + (3, )\n",
    "base_model_MobileNet = tf.keras.applications.MobileNetV2(input_shape=IMG_SHAPE,\n",
    "                                                         include_top=False,\n",
    "                                                         weights='imagenet')\n",
    "feature_batch = base_model_MobileNet(data_train)\n",
    "base_model_MobileNet.trainable = False\n",
    "flatten_average_layer = tf.keras.layers.Flatten()\n",
    "feature_batch_MobileNet = flatten_average_layer(feature_batch)\n",
    "print(feature_batch_MobileNet.shape)"
   ]
  },
  {
   "cell_type": "markdown",
   "id": "45118fc8",
   "metadata": {},
   "source": [
    "#### 3. Xception"
   ]
  },
  {
   "cell_type": "code",
   "execution_count": 23,
   "id": "33d9ca84",
   "metadata": {},
   "outputs": [
    {
     "name": "stdout",
     "output_type": "stream",
     "text": [
      "(276, 51200)\n"
     ]
    }
   ],
   "source": [
    "# Due to the error from out of memory, the the image sizes weremnchanged to 150 for Xception, Resnet50, Densenet201\n",
    "IMG_SHAPE = IMAGE_SIZE + (3, )\n",
    "base_model_Xception = tf.keras.applications.Xception(input_shape=IMG_SHAPE,\n",
    "                                                         include_top=False,\n",
    "                                                         weights='imagenet')\n",
    "feature_batch = base_model_Xception(data_train)\n",
    "base_model_Xception.trainable = False\n",
    "flatten_average_layer = tf.keras.layers.Flatten()\n",
    "feature_batch_Xception = flatten_average_layer(feature_batch)\n",
    "print(feature_batch_Xception.shape)"
   ]
  },
  {
   "cell_type": "markdown",
   "id": "64b2c0a1",
   "metadata": {},
   "source": [
    "#### 4. ResNet50"
   ]
  },
  {
   "cell_type": "code",
   "execution_count": 32,
   "id": "f18799e2",
   "metadata": {},
   "outputs": [
    {
     "name": "stdout",
     "output_type": "stream",
     "text": [
      "(276, 51200)\n"
     ]
    }
   ],
   "source": [
    "base_model_ResNet50 = tf.keras.applications.ResNet50(input_shape=IMG_SHAPE,\n",
    "                                                         include_top=False,\n",
    "                                                         weights='imagenet')\n",
    "feature_batch = base_model_ResNet50(data_train)\n",
    "base_model_ResNet50.trainable = False\n",
    "flatten_average_layer = tf.keras.layers.Flatten()\n",
    "feature_batch_ResNet50 = flatten_average_layer(feature_batch)\n",
    "print(feature_batch_ResNet50.shape)"
   ]
  },
  {
   "cell_type": "markdown",
   "id": "44e7a84b",
   "metadata": {},
   "source": [
    "#### 6. DenseNet201"
   ]
  },
  {
   "cell_type": "code",
   "execution_count": 41,
   "id": "814204bb",
   "metadata": {},
   "outputs": [
    {
     "name": "stdout",
     "output_type": "stream",
     "text": [
      "(276, 30720)\n"
     ]
    }
   ],
   "source": [
    "IMG_SHAPE = IMAGE_SIZE + (3, )\n",
    "base_model_DenseNet201 = tf.keras.applications.DenseNet201(input_shape=IMG_SHAPE,\n",
    "                                                         include_top=False,\n",
    "                                                         weights='imagenet')\n",
    "feature_batch = base_model_DenseNet201(data_train)\n",
    "base_model_DenseNet201.trainable = False\n",
    "flatten_average_layer = tf.keras.layers.Flatten()\n",
    "feature_batch_DenseNet201 = flatten_average_layer(feature_batch)\n",
    "print(feature_batch_DenseNet201.shape)"
   ]
  },
  {
   "cell_type": "markdown",
   "id": "1e5314c5",
   "metadata": {},
   "source": [
    "#### 7. VGG16"
   ]
  },
  {
   "cell_type": "code",
   "execution_count": 50,
   "id": "ac832870",
   "metadata": {},
   "outputs": [
    {
     "name": "stdout",
     "output_type": "stream",
     "text": [
      "(276, 4608)\n"
     ]
    }
   ],
   "source": [
    "# Due to the error from out of memory, the the image sizes weremnchanged to 120 for VGG16 and EfficientNetB7\n",
    "IMG_SHAPE = IMAGE_SIZE + (3, )\n",
    "\n",
    "base_model_VGG16 = tf.keras.applications.VGG16(input_shape=IMG_SHAPE,\n",
    "                                                         include_top=False,\n",
    "                                                         weights='imagenet')\n",
    "feature_batch = base_model_VGG16(data_train)\n",
    "base_model_VGG16.trainable = False\n",
    "flatten_average_layer = tf.keras.layers.Flatten()\n",
    "feature_batch_VGG16 = flatten_average_layer(feature_batch)\n",
    "print(feature_batch_VGG16.shape)"
   ]
  },
  {
   "cell_type": "markdown",
   "id": "0e1add8a",
   "metadata": {},
   "source": [
    "#### 8. EfficientNetB7"
   ]
  },
  {
   "cell_type": "code",
   "execution_count": 59,
   "id": "7ac5f1e0",
   "metadata": {},
   "outputs": [
    {
     "name": "stdout",
     "output_type": "stream",
     "text": [
      "(276, 40960)\n"
     ]
    }
   ],
   "source": [
    "base_model_EfficientNetB7 = tf.keras.applications.EfficientNetB7(input_shape=IMG_SHAPE,\n",
    "                                                         include_top=False,\n",
    "                                                         weights='imagenet')\n",
    "feature_batch = base_model_EfficientNetB7(data_train)\n",
    "base_model_EfficientNetB7.trainable = False\n",
    "flatten_average_layer = tf.keras.layers.Flatten()\n",
    "feature_batch_EfficientNetB7 = flatten_average_layer(feature_batch)\n",
    "print(feature_batch_EfficientNetB7.shape)"
   ]
  },
  {
   "cell_type": "markdown",
   "id": "88acc02b",
   "metadata": {},
   "source": [
    "##### Now we have to concatenate them"
   ]
  },
  {
   "cell_type": "code",
   "execution_count": 88,
   "id": "d3a2a40d",
   "metadata": {},
   "outputs": [
    {
     "data": {
      "text/plain": [
       "(276, 293152)"
      ]
     },
     "execution_count": 88,
     "metadata": {},
     "output_type": "execute_result"
    }
   ],
   "source": [
    "large_dim_input = np.concatenate((feature_batch_EfficientNetB7,feature_batch_VGG16,feature_batch_DenseNet201,\n",
    "                                  feature_batch_NASNetMobile,feature_batch_ResNet50,feature_batch_Xception,\n",
    "                                  feature_batch_MobileNet), axis = 1)\n",
    "large_dim_input.shape"
   ]
  },
  {
   "cell_type": "code",
   "execution_count": 89,
   "id": "d2b15287",
   "metadata": {},
   "outputs": [],
   "source": [
    "from sklearn.linear_model import LogisticRegression\n",
    "from sklearn.model_selection import GridSearchCV\n",
    "#from sklearn.utils.fixes import loguniform\n",
    "from sklearn.metrics import make_scorer\n",
    "from sklearn.model_selection import KFold\n",
    "from sklearn.model_selection import cross_val_score\n",
    "\n",
    "\n",
    "\n",
    "cv_inner = KFold(n_splits=3, shuffle=True, random_state=1)\n",
    "\n",
    "model = LogisticRegression(penalty = 'l1')\n",
    "\n",
    "space = dict()\n",
    "space['solver'] = ['saga', 'lbfgs', 'liblinear']\n",
    "#space['penalty'] = ['none', 'l1', 'l2', 'elasticnet']\n",
    "space['C'] = [0.001, 0.01, 0.1, 10, 100, 1000]\n",
    "\n",
    "# define search\n",
    "search = GridSearchCV(model, space, scoring = 'precision', n_jobs=1, cv=cv_inner, refit=True)\n",
    "\n",
    "cv_outer = KFold(n_splits=10, shuffle=True, random_state=1)\n",
    "\n",
    "scores = cross_val_score(search, large_dim_input, label_train, cv=cv_outer, n_jobs=-1, error_score=\"raise\")"
   ]
  },
  {
   "cell_type": "code",
   "execution_count": 90,
   "id": "d17c2a76",
   "metadata": {},
   "outputs": [
    {
     "name": "stdout",
     "output_type": "stream",
     "text": [
      "Accuracy: 0.966 (0.038)\n"
     ]
    }
   ],
   "source": [
    "from numpy import mean\n",
    "from numpy import std\n",
    "print('Accuracy: %.3f (%.3f)' % (mean(scores), std(scores)))"
   ]
  },
  {
   "cell_type": "code",
   "execution_count": null,
   "id": "2c06a10a",
   "metadata": {},
   "outputs": [],
   "source": []
  }
 ],
 "metadata": {
  "kernelspec": {
   "display_name": "Python 3",
   "language": "python",
   "name": "python3"
  },
  "language_info": {
   "codemirror_mode": {
    "name": "ipython",
    "version": 3
   },
   "file_extension": ".py",
   "mimetype": "text/x-python",
   "name": "python",
   "nbconvert_exporter": "python",
   "pygments_lexer": "ipython3",
   "version": "3.6.13"
  }
 },
 "nbformat": 4,
 "nbformat_minor": 5
}
